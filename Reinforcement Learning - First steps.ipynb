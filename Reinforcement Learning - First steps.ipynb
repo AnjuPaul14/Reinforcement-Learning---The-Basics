{
 "cells": [
  {
   "cell_type": "markdown",
   "metadata": {
    "id": "izXD8C4prL55"
   },
   "source": [
    "# Installing Required Dependencies"
   ]
  },
  {
   "cell_type": "code",
   "execution_count": 1,
   "metadata": {
    "colab": {
     "base_uri": "https://localhost:8080/"
    },
    "id": "PgqTyJ1inMVE",
    "outputId": "5a33e98d-bba2-4331-ae8e-6030cdc59c64"
   },
   "outputs": [
    {
     "name": "stdout",
     "output_type": "stream",
     "text": [
      "Requirement already satisfied: stable-baselines3[extra] in c:\\programdata\\anaconda3\\lib\\site-packages (1.4.0)\n",
      "Requirement already satisfied: cloudpickle in c:\\programdata\\anaconda3\\lib\\site-packages (from stable-baselines3[extra]) (1.6.0)\n",
      "Requirement already satisfied: torch>=1.8.1 in c:\\programdata\\anaconda3\\lib\\site-packages (from stable-baselines3[extra]) (1.11.0)\n",
      "Requirement already satisfied: pandas in c:\\programdata\\anaconda3\\lib\\site-packages (from stable-baselines3[extra]) (1.2.4)\n",
      "Requirement already satisfied: gym<0.20,>=0.17 in c:\\programdata\\anaconda3\\lib\\site-packages (from stable-baselines3[extra]) (0.19.0)\n",
      "Requirement already satisfied: matplotlib in c:\\programdata\\anaconda3\\lib\\site-packages (from stable-baselines3[extra]) (3.3.4)\n",
      "Requirement already satisfied: numpy in c:\\programdata\\anaconda3\\lib\\site-packages (from stable-baselines3[extra]) (1.20.1)\n",
      "Requirement already satisfied: atari-py==0.2.6 in c:\\programdata\\anaconda3\\lib\\site-packages (from stable-baselines3[extra]) (0.2.6)\n",
      "Requirement already satisfied: opencv-python in c:\\programdata\\anaconda3\\lib\\site-packages (from stable-baselines3[extra]) (4.5.5.64)\n",
      "Requirement already satisfied: tensorboard>=2.2.0 in c:\\programdata\\anaconda3\\lib\\site-packages (from stable-baselines3[extra]) (2.8.0)\n",
      "Requirement already satisfied: pillow in c:\\programdata\\anaconda3\\lib\\site-packages (from stable-baselines3[extra]) (8.2.0)\n",
      "Requirement already satisfied: psutil in c:\\programdata\\anaconda3\\lib\\site-packages (from stable-baselines3[extra]) (5.8.0)\n",
      "Requirement already satisfied: six in c:\\programdata\\anaconda3\\lib\\site-packages (from atari-py==0.2.6->stable-baselines3[extra]) (1.15.0)\n",
      "Requirement already satisfied: protobuf>=3.6.0 in c:\\programdata\\anaconda3\\lib\\site-packages (from tensorboard>=2.2.0->stable-baselines3[extra]) (3.19.1)\n",
      "Requirement already satisfied: tensorboard-plugin-wit>=1.6.0 in c:\\programdata\\anaconda3\\lib\\site-packages (from tensorboard>=2.2.0->stable-baselines3[extra]) (1.6.0)\n",
      "Requirement already satisfied: setuptools>=41.0.0 in c:\\programdata\\anaconda3\\lib\\site-packages (from tensorboard>=2.2.0->stable-baselines3[extra]) (52.0.0.post20210125)\n",
      "Requirement already satisfied: werkzeug>=0.11.15 in c:\\programdata\\anaconda3\\lib\\site-packages (from tensorboard>=2.2.0->stable-baselines3[extra]) (1.0.1)\n",
      "Requirement already satisfied: wheel>=0.26 in c:\\programdata\\anaconda3\\lib\\site-packages (from tensorboard>=2.2.0->stable-baselines3[extra]) (0.36.2)\n",
      "Requirement already satisfied: requests<3,>=2.21.0 in c:\\programdata\\anaconda3\\lib\\site-packages (from tensorboard>=2.2.0->stable-baselines3[extra]) (2.25.1)\n",
      "Requirement already satisfied: absl-py>=0.4 in c:\\programdata\\anaconda3\\lib\\site-packages (from tensorboard>=2.2.0->stable-baselines3[extra]) (0.15.0)\n",
      "Requirement already satisfied: tensorboard-data-server<0.7.0,>=0.6.0 in c:\\programdata\\anaconda3\\lib\\site-packages (from tensorboard>=2.2.0->stable-baselines3[extra]) (0.6.1)\n",
      "Requirement already satisfied: google-auth-oauthlib<0.5,>=0.4.1 in c:\\programdata\\anaconda3\\lib\\site-packages (from tensorboard>=2.2.0->stable-baselines3[extra]) (0.4.4)\n",
      "Requirement already satisfied: google-auth<3,>=1.6.3 in c:\\programdata\\anaconda3\\lib\\site-packages (from tensorboard>=2.2.0->stable-baselines3[extra]) (1.21.3)\n",
      "Requirement already satisfied: grpcio>=1.24.3 in c:\\programdata\\anaconda3\\lib\\site-packages (from tensorboard>=2.2.0->stable-baselines3[extra]) (1.36.1)\n",
      "Requirement already satisfied: markdown>=2.6.8 in c:\\programdata\\anaconda3\\lib\\site-packages (from tensorboard>=2.2.0->stable-baselines3[extra]) (3.3.4)\n",
      "Requirement already satisfied: cachetools<5.0,>=2.0.0 in c:\\programdata\\anaconda3\\lib\\site-packages (from google-auth<3,>=1.6.3->tensorboard>=2.2.0->stable-baselines3[extra]) (4.2.2)\n",
      "Requirement already satisfied: pyasn1-modules>=0.2.1 in c:\\programdata\\anaconda3\\lib\\site-packages (from google-auth<3,>=1.6.3->tensorboard>=2.2.0->stable-baselines3[extra]) (0.2.8)\n",
      "Requirement already satisfied: rsa<5,>=3.1.4 in c:\\programdata\\anaconda3\\lib\\site-packages (from google-auth<3,>=1.6.3->tensorboard>=2.2.0->stable-baselines3[extra]) (4.7.2)\n",
      "Requirement already satisfied: requests-oauthlib>=0.7.0 in c:\\programdata\\anaconda3\\lib\\site-packages (from google-auth-oauthlib<0.5,>=0.4.1->tensorboard>=2.2.0->stable-baselines3[extra]) (1.3.0)\n",
      "Requirement already satisfied: pyasn1<0.5.0,>=0.4.6 in c:\\programdata\\anaconda3\\lib\\site-packages (from pyasn1-modules>=0.2.1->google-auth<3,>=1.6.3->tensorboard>=2.2.0->stable-baselines3[extra]) (0.4.8)\n",
      "Requirement already satisfied: idna<3,>=2.5 in c:\\programdata\\anaconda3\\lib\\site-packages (from requests<3,>=2.21.0->tensorboard>=2.2.0->stable-baselines3[extra]) (2.10)\n",
      "Requirement already satisfied: urllib3<1.27,>=1.21.1 in c:\\programdata\\anaconda3\\lib\\site-packages (from requests<3,>=2.21.0->tensorboard>=2.2.0->stable-baselines3[extra]) (1.26.4)\n",
      "Requirement already satisfied: chardet<5,>=3.0.2 in c:\\programdata\\anaconda3\\lib\\site-packages (from requests<3,>=2.21.0->tensorboard>=2.2.0->stable-baselines3[extra]) (4.0.0)\n",
      "Requirement already satisfied: certifi>=2017.4.17 in c:\\programdata\\anaconda3\\lib\\site-packages (from requests<3,>=2.21.0->tensorboard>=2.2.0->stable-baselines3[extra]) (2020.12.5)\n",
      "Requirement already satisfied: oauthlib>=3.0.0 in c:\\programdata\\anaconda3\\lib\\site-packages (from requests-oauthlib>=0.7.0->google-auth-oauthlib<0.5,>=0.4.1->tensorboard>=2.2.0->stable-baselines3[extra]) (3.2.0)\n",
      "Requirement already satisfied: typing-extensions in c:\\programdata\\anaconda3\\lib\\site-packages (from torch>=1.8.1->stable-baselines3[extra]) (3.7.4.3)\n",
      "Requirement already satisfied: pyparsing!=2.0.4,!=2.1.2,!=2.1.6,>=2.0.3 in c:\\programdata\\anaconda3\\lib\\site-packages (from matplotlib->stable-baselines3[extra]) (2.4.7)\n",
      "Requirement already satisfied: python-dateutil>=2.1 in c:\\programdata\\anaconda3\\lib\\site-packages (from matplotlib->stable-baselines3[extra]) (2.8.1)\n",
      "Requirement already satisfied: kiwisolver>=1.0.1 in c:\\programdata\\anaconda3\\lib\\site-packages (from matplotlib->stable-baselines3[extra]) (1.3.1)\n",
      "Requirement already satisfied: cycler>=0.10 in c:\\programdata\\anaconda3\\lib\\site-packages (from matplotlib->stable-baselines3[extra]) (0.10.0)\n",
      "Requirement already satisfied: pytz>=2017.3 in c:\\programdata\\anaconda3\\lib\\site-packages (from pandas->stable-baselines3[extra]) (2021.1)\n"
     ]
    }
   ],
   "source": [
    "!pip install stable-baselines3[extra]"
   ]
  },
  {
   "cell_type": "code",
   "execution_count": 30,
   "metadata": {
    "id": "zTlR6R6jsSAA"
   },
   "outputs": [],
   "source": [
    "import os\n",
    "import gym # allow to work with environments - open ai gym\n",
    "from stable_baselines3 import PPO\n",
    "from stable_baselines3.common.vec_env import DummyVecEnv\n",
    "from stable_baselines3.common.evaluation import evaluate_policy"
   ]
  },
  {
   "cell_type": "markdown",
   "metadata": {
    "id": "zJpy1_xfroiU"
   },
   "source": [
    "# Load Environment"
   ]
  },
  {
   "cell_type": "code",
   "execution_count": 31,
   "metadata": {
    "id": "diZXXCTnsQtH"
   },
   "outputs": [],
   "source": [
    "environment_name  = 'CartPole-v0'\n",
    "env = gym.make(environment_name)"
   ]
  },
  {
   "cell_type": "code",
   "execution_count": 32,
   "metadata": {
    "colab": {
     "base_uri": "https://localhost:8080/",
     "height": 35
    },
    "id": "LVGmbKaX3Wza",
    "outputId": "6b782100-4f1f-48ef-cb5c-1e01958a653e"
   },
   "outputs": [
    {
     "data": {
      "text/plain": [
       "'CartPole-v0'"
      ]
     },
     "execution_count": 32,
     "metadata": {},
     "output_type": "execute_result"
    }
   ],
   "source": [
    "environment_name"
   ]
  },
  {
   "cell_type": "code",
   "execution_count": 30,
   "metadata": {},
   "outputs": [
    {
     "name": "stdout",
     "output_type": "stream",
     "text": [
      "Requirement already satisfied: gym[all] in c:\\programdata\\anaconda3\\lib\\site-packages (0.19.0)\n",
      "Requirement already satisfied: cloudpickle<1.7.0,>=1.2.0 in c:\\programdata\\anaconda3\\lib\\site-packages (from gym[all]) (1.6.0)\n",
      "Requirement already satisfied: numpy>=1.18.0 in c:\\programdata\\anaconda3\\lib\\site-packages (from gym[all]) (1.20.1)\n",
      "Collecting mujoco-py<2.0,>=1.50\n",
      "Note: you may need to restart the kernel to use updated packages.\n",
      "  Using cached mujoco-py-1.50.1.68.tar.gz (120 kB)\n",
      "Collecting box2d-py~=2.3.5"
     ]
    },
    {
     "name": "stderr",
     "output_type": "stream",
     "text": [
      "  ERROR: Command errored out with exit status 1:\n",
      "   command: 'C:\\ProgramData\\Anaconda3\\python.exe' -u -c 'import sys, setuptools, tokenize; sys.argv[0] = '\"'\"'C:\\\\Users\\\\Anju Paul\\\\AppData\\\\Local\\\\Temp\\\\pip-install-sntie229\\\\box2d-py_efdf07e7ddd749688fa453262654dfc9\\\\setup.py'\"'\"'; __file__='\"'\"'C:\\\\Users\\\\Anju Paul\\\\AppData\\\\Local\\\\Temp\\\\pip-install-sntie229\\\\box2d-py_efdf07e7ddd749688fa453262654dfc9\\\\setup.py'\"'\"';f=getattr(tokenize, '\"'\"'open'\"'\"', open)(__file__);code=f.read().replace('\"'\"'\\r\\n'\"'\"', '\"'\"'\\n'\"'\"');f.close();exec(compile(code, __file__, '\"'\"'exec'\"'\"'))' bdist_wheel -d 'C:\\Users\\Anju Paul\\AppData\\Local\\Temp\\pip-wheel-11496nbf'\n",
      "       cwd: C:\\Users\\Anju Paul\\AppData\\Local\\Temp\\pip-install-sntie229\\box2d-py_efdf07e7ddd749688fa453262654dfc9\\\n",
      "  Complete output (16 lines):\n",
      "  Using setuptools (version 52.0.0.post20210125).\n",
      "  running bdist_wheel\n",
      "  running build\n",
      "  running build_py\n",
      "  creating build\n",
      "  creating build\\lib.win-amd64-3.8\n",
      "  creating build\\lib.win-amd64-3.8\\Box2D\n",
      "  copying library\\Box2D\\Box2D.py -> build\\lib.win-amd64-3.8\\Box2D\n",
      "  copying library\\Box2D\\__init__.py -> build\\lib.win-amd64-3.8\\Box2D\n",
      "  creating build\\lib.win-amd64-3.8\\Box2D\\b2\n",
      "  copying library\\Box2D\\b2\\__init__.py -> build\\lib.win-amd64-3.8\\Box2D\\b2\n",
      "  running build_ext\n",
      "  building 'Box2D._Box2D' extension\n",
      "  swigging Box2D\\Box2D.i to Box2D\\Box2D_wrap.cpp\n",
      "  swig.exe -python -c++ -IBox2D -small -O -includeall -ignoremissing -w201 -globals b2Globals -outdir library\\Box2D -keyword -w511 -D_SWIG_KWARGS -o Box2D\\Box2D_wrap.cpp Box2D\\Box2D.i\n",
      "  error: command 'swig.exe' failed: No such file or directory\n",
      "  ----------------------------------------\n",
      "  ERROR: Failed building wheel for box2d-py\n",
      "  ERROR: Command errored out with exit status 1:\n",
      "   command: 'C:\\ProgramData\\Anaconda3\\python.exe' -u -c 'import sys, setuptools, tokenize; sys.argv[0] = '\"'\"'C:\\\\Users\\\\Anju Paul\\\\AppData\\\\Local\\\\Temp\\\\pip-install-sntie229\\\\mujoco-py_160292da7c8a4993b015401b6d7e8f4d\\\\setup.py'\"'\"'; __file__='\"'\"'C:\\\\Users\\\\Anju Paul\\\\AppData\\\\Local\\\\Temp\\\\pip-install-sntie229\\\\mujoco-py_160292da7c8a4993b015401b6d7e8f4d\\\\setup.py'\"'\"';f=getattr(tokenize, '\"'\"'open'\"'\"', open)(__file__);code=f.read().replace('\"'\"'\\r\\n'\"'\"', '\"'\"'\\n'\"'\"');f.close();exec(compile(code, __file__, '\"'\"'exec'\"'\"'))' bdist_wheel -d 'C:\\Users\\Anju Paul\\AppData\\Local\\Temp\\pip-wheel-sk5nvdnd'\n",
      "       cwd: C:\\Users\\Anju Paul\\AppData\\Local\\Temp\\pip-install-sntie229\\mujoco-py_160292da7c8a4993b015401b6d7e8f4d\\\n",
      "  Complete output (54 lines):\n",
      "  running bdist_wheel\n",
      "  running build\n",
      "  \n",
      "  You appear to be missing MuJoCo.  We expected to find the file here: C:\\Users\\Anju Paul\\.mujoco\\mjpro150\n",
      "  \n",
      "  This package only provides python bindings, the library must be installed separately.\n",
      "  \n",
      "  Please follow the instructions on the README to install MuJoCo\n",
      "  \n",
      "      https://github.com/openai/mujoco-py#install-mujoco\n",
      "  \n",
      "  Which can be downloaded from the website\n",
      "  \n",
      "      https://www.roboti.us/index.html\n",
      "  \n",
      "  Traceback (most recent call last):\n",
      "    File \"<string>\", line 1, in <module>"
     ]
    },
    {
     "name": "stdout",
     "output_type": "stream",
     "text": [
      "\n",
      "  Using cached box2d-py-2.3.8.tar.gz (374 kB)\n",
      "Requirement already satisfied: opencv-python>=3. in c:\\programdata\\anaconda3\\lib\\site-packages (from gym[all]) (4.5.5.64)\n",
      "Requirement already satisfied: pyglet>=1.4.0 in c:\\programdata\\anaconda3\\lib\\site-packages (from gym[all]) (1.5.23)\n",
      "Requirement already satisfied: atari-py==0.2.6 in c:\\programdata\\anaconda3\\lib\\site-packages (from gym[all]) (0.2.6)\n",
      "Requirement already satisfied: imageio in c:\\programdata\\anaconda3\\lib\\site-packages (from gym[all]) (2.9.0)\n",
      "Requirement already satisfied: scipy in c:\\programdata\\anaconda3\\lib\\site-packages (from gym[all]) (1.6.2)\n",
      "Requirement already satisfied: six in c:\\programdata\\anaconda3\\lib\\site-packages (from atari-py==0.2.6->gym[all]) (1.15.0)\n",
      "Requirement already satisfied: glfw>=1.4.0 in c:\\programdata\\anaconda3\\lib\\site-packages (from mujoco-py<2.0,>=1.50->gym[all]) (2.5.1)\n",
      "Requirement already satisfied: Cython>=0.27.2 in c:\\programdata\\anaconda3\\lib\\site-packages (from mujoco-py<2.0,>=1.50->gym[all]) (0.29.23)\n",
      "Requirement already satisfied: cffi>=1.10 in c:\\programdata\\anaconda3\\lib\\site-packages (from mujoco-py<2.0,>=1.50->gym[all]) (1.14.5)\n",
      "Requirement already satisfied: lockfile>=0.12.2 in c:\\programdata\\anaconda3\\lib\\site-packages (from mujoco-py<2.0,>=1.50->gym[all]) (0.12.2)\n",
      "Requirement already satisfied: pycparser in c:\\programdata\\anaconda3\\lib\\site-packages (from cffi>=1.10->mujoco-py<2.0,>=1.50->gym[all]) (2.20)\n",
      "Requirement already satisfied: pillow in c:\\programdata\\anaconda3\\lib\\site-packages (from imageio->gym[all]) (8.2.0)\n",
      "Building wheels for collected packages: box2d-py, mujoco-py\n",
      "  Building wheel for box2d-py (setup.py): started\n",
      "  Building wheel for box2d-py (setup.py): finished with status 'error'\n",
      "  Running setup.py clean for box2d-py\n",
      "  Building wheel for mujoco-py (setup.py): started\n",
      "  Building wheel for mujoco-py (setup.py): finished with status 'error'\n",
      "  Running setup.py clean for mujoco-py\n",
      "Failed to build box2d-py mujoco-py\n",
      "Installing collected packages: mujoco-py, box2d-py\n",
      "    Running setup.py install for mujoco-py: started\n",
      "    Running setup.py install for mujoco-py: finished with status 'error'\n"
     ]
    },
    {
     "name": "stderr",
     "output_type": "stream",
     "text": [
      "\n",
      "    File \"C:\\Users\\Anju Paul\\AppData\\Local\\Temp\\pip-install-sntie229\\mujoco-py_160292da7c8a4993b015401b6d7e8f4d\\setup.py\", line 32, in <module>\n",
      "      setup(\n",
      "    File \"C:\\ProgramData\\Anaconda3\\lib\\site-packages\\setuptools\\__init__.py\", line 153, in setup\n",
      "      return distutils.core.setup(**attrs)\n",
      "    File \"C:\\ProgramData\\Anaconda3\\lib\\distutils\\core.py\", line 148, in setup\n",
      "      dist.run_commands()\n",
      "    File \"C:\\ProgramData\\Anaconda3\\lib\\distutils\\dist.py\", line 966, in run_commands\n",
      "      self.run_command(cmd)\n",
      "    File \"C:\\ProgramData\\Anaconda3\\lib\\distutils\\dist.py\", line 985, in run_command\n",
      "      cmd_obj.run()\n",
      "    File \"C:\\ProgramData\\Anaconda3\\lib\\site-packages\\wheel\\bdist_wheel.py\", line 299, in run\n",
      "      self.run_command('build')\n",
      "    File \"C:\\ProgramData\\Anaconda3\\lib\\distutils\\cmd.py\", line 313, in run_command\n",
      "      self.distribution.run_command(command)\n",
      "    File \"C:\\ProgramData\\Anaconda3\\lib\\distutils\\dist.py\", line 985, in run_command\n",
      "      cmd_obj.run()\n",
      "    File \"C:\\Users\\Anju Paul\\AppData\\Local\\Temp\\pip-install-sntie229\\mujoco-py_160292da7c8a4993b015401b6d7e8f4d\\setup.py\", line 28, in run\n",
      "      import mujoco_py  # noqa: force build\n",
      "    File \"C:\\Users\\Anju Paul\\AppData\\Local\\Temp\\pip-install-sntie229\\mujoco-py_160292da7c8a4993b015401b6d7e8f4d\\mujoco_py\\__init__.py\", line 3, in <module>\n",
      "      from mujoco_py.builder import cymj, ignore_mujoco_warnings, functions, MujocoException\n",
      "    File \"C:\\Users\\Anju Paul\\AppData\\Local\\Temp\\pip-install-sntie229\\mujoco-py_160292da7c8a4993b015401b6d7e8f4d\\mujoco_py\\builder.py\", line 502, in <module>\n",
      "      mjpro_path, key_path = discover_mujoco()\n",
      "    File \"C:\\Users\\Anju Paul\\AppData\\Local\\Temp\\pip-install-sntie229\\mujoco-py_160292da7c8a4993b015401b6d7e8f4d\\mujoco_py\\utils.py\", line 93, in discover_mujoco\n",
      "      raise Exception(message)\n",
      "  Exception:\n",
      "  You appear to be missing MuJoCo.  We expected to find the file here: C:\\Users\\Anju Paul\\.mujoco\\mjpro150\n",
      "  \n",
      "  This package only provides python bindings, the library must be installed separately.\n",
      "  \n",
      "  Please follow the instructions on the README to install MuJoCo\n",
      "  \n",
      "      https://github.com/openai/mujoco-py#install-mujoco\n",
      "  \n",
      "  Which can be downloaded from the website\n",
      "  \n",
      "      https://www.roboti.us/index.html\n",
      "  \n",
      "  ----------------------------------------\n",
      "  ERROR: Failed building wheel for mujoco-py\n",
      "    ERROR: Command errored out with exit status 1:\n",
      "     command: 'C:\\ProgramData\\Anaconda3\\python.exe' -u -c 'import sys, setuptools, tokenize; sys.argv[0] = '\"'\"'C:\\\\Users\\\\Anju Paul\\\\AppData\\\\Local\\\\Temp\\\\pip-install-sntie229\\\\mujoco-py_160292da7c8a4993b015401b6d7e8f4d\\\\setup.py'\"'\"'; __file__='\"'\"'C:\\\\Users\\\\Anju Paul\\\\AppData\\\\Local\\\\Temp\\\\pip-install-sntie229\\\\mujoco-py_160292da7c8a4993b015401b6d7e8f4d\\\\setup.py'\"'\"';f=getattr(tokenize, '\"'\"'open'\"'\"', open)(__file__);code=f.read().replace('\"'\"'\\r\\n'\"'\"', '\"'\"'\\n'\"'\"');f.close();exec(compile(code, __file__, '\"'\"'exec'\"'\"'))' install --record 'C:\\Users\\Anju Paul\\AppData\\Local\\Temp\\pip-record-kb9u7ngc\\install-record.txt' --single-version-externally-managed --compile --install-headers 'C:\\ProgramData\\Anaconda3\\Include\\mujoco-py'\n",
      "         cwd: C:\\Users\\Anju Paul\\AppData\\Local\\Temp\\pip-install-sntie229\\mujoco-py_160292da7c8a4993b015401b6d7e8f4d\\\n",
      "    Complete output (56 lines):\n",
      "    running install\n",
      "    running build\n",
      "    \n",
      "    You appear to be missing MuJoCo.  We expected to find the file here: C:\\Users\\Anju Paul\\.mujoco\\mjpro150\n",
      "    \n",
      "    This package only provides python bindings, the library must be installed separately.\n",
      "    \n",
      "    Please follow the instructions on the README to install MuJoCo\n",
      "    \n",
      "        https://github.com/openai/mujoco-py#install-mujoco\n",
      "    \n",
      "    Which can be downloaded from the website\n",
      "    \n",
      "        https://www.roboti.us/index.html\n",
      "    \n",
      "    Traceback (most recent call last):\n",
      "      File \"<string>\", line 1, in <module>\n",
      "      File \"C:\\Users\\Anju Paul\\AppData\\Local\\Temp\\pip-install-sntie229\\mujoco-py_160292da7c8a4993b015401b6d7e8f4d\\setup.py\", line 32, in <module>\n",
      "        setup(\n",
      "      File \"C:\\ProgramData\\Anaconda3\\lib\\site-packages\\setuptools\\__init__.py\", line 153, in setup\n",
      "        return distutils.core.setup(**attrs)\n",
      "      File \"C:\\ProgramData\\Anaconda3\\lib\\distutils\\core.py\", line 148, in setup\n",
      "        dist.run_commands()\n",
      "      File \"C:\\ProgramData\\Anaconda3\\lib\\distutils\\dist.py\", line 966, in run_commands\n",
      "        self.run_command(cmd)\n",
      "      File \"C:\\ProgramData\\Anaconda3\\lib\\distutils\\dist.py\", line 985, in run_command\n",
      "        cmd_obj.run()\n",
      "      File \"C:\\ProgramData\\Anaconda3\\lib\\site-packages\\setuptools\\command\\install.py\", line 61, in run\n",
      "        return orig.install.run(self)\n",
      "      File \"C:\\ProgramData\\Anaconda3\\lib\\distutils\\command\\install.py\", line 545, in run\n",
      "        self.run_command('build')\n",
      "      File \"C:\\ProgramData\\Anaconda3\\lib\\distutils\\cmd.py\", line 313, in run_command\n",
      "        self.distribution.run_command(command)\n",
      "      File \"C:\\ProgramData\\Anaconda3\\lib\\distutils\\dist.py\", line 985, in run_command\n",
      "        cmd_obj.run()\n",
      "      File \"C:\\Users\\Anju Paul\\AppData\\Local\\Temp\\pip-install-sntie229\\mujoco-py_160292da7c8a4993b015401b6d7e8f4d\\setup.py\", line 28, in run\n",
      "        import mujoco_py  # noqa: force build\n",
      "      File \"C:\\Users\\Anju Paul\\AppData\\Local\\Temp\\pip-install-sntie229\\mujoco-py_160292da7c8a4993b015401b6d7e8f4d\\mujoco_py\\__init__.py\", line 3, in <module>\n",
      "        from mujoco_py.builder import cymj, ignore_mujoco_warnings, functions, MujocoException\n",
      "      File \"C:\\Users\\Anju Paul\\AppData\\Local\\Temp\\pip-install-sntie229\\mujoco-py_160292da7c8a4993b015401b6d7e8f4d\\mujoco_py\\builder.py\", line 502, in <module>\n",
      "        mjpro_path, key_path = discover_mujoco()\n",
      "      File \"C:\\Users\\Anju Paul\\AppData\\Local\\Temp\\pip-install-sntie229\\mujoco-py_160292da7c8a4993b015401b6d7e8f4d\\mujoco_py\\utils.py\", line 93, in discover_mujoco\n",
      "        raise Exception(message)\n",
      "    Exception:\n",
      "    You appear to be missing MuJoCo.  We expected to find the file here: C:\\Users\\Anju Paul\\.mujoco\\mjpro150\n",
      "    \n",
      "    This package only provides python bindings, the library must be installed separately.\n",
      "    \n",
      "    Please follow the instructions on the README to install MuJoCo\n",
      "    \n",
      "        https://github.com/openai/mujoco-py#install-mujoco\n",
      "    \n",
      "    Which can be downloaded from the website\n",
      "    \n",
      "        https://www.roboti.us/index.html\n",
      "    \n",
      "    ----------------------------------------\n",
      "ERROR: Command errored out with exit status 1: 'C:\\ProgramData\\Anaconda3\\python.exe' -u -c 'import sys, setuptools, tokenize; sys.argv[0] = '\"'\"'C:\\\\Users\\\\Anju Paul\\\\AppData\\\\Local\\\\Temp\\\\pip-install-sntie229\\\\mujoco-py_160292da7c8a4993b015401b6d7e8f4d\\\\setup.py'\"'\"'; __file__='\"'\"'C:\\\\Users\\\\Anju Paul\\\\AppData\\\\Local\\\\Temp\\\\pip-install-sntie229\\\\mujoco-py_160292da7c8a4993b015401b6d7e8f4d\\\\setup.py'\"'\"';f=getattr(tokenize, '\"'\"'open'\"'\"', open)(__file__);code=f.read().replace('\"'\"'\\r\\n'\"'\"', '\"'\"'\\n'\"'\"');f.close();exec(compile(code, __file__, '\"'\"'exec'\"'\"'))' install --record 'C:\\Users\\Anju Paul\\AppData\\Local\\Temp\\pip-record-kb9u7ngc\\install-record.txt' --single-version-externally-managed --compile --install-headers 'C:\\ProgramData\\Anaconda3\\Include\\mujoco-py' Check the logs for full command output.\n"
     ]
    }
   ],
   "source": [
    "pip install gym[all]"
   ]
  },
  {
   "cell_type": "code",
   "execution_count": 33,
   "metadata": {
    "id": "8hY1B2Je3h3W"
   },
   "outputs": [
    {
     "name": "stdout",
     "output_type": "stream",
     "text": [
      "Round:1 Score : 17.0\n",
      "Round:2 Score : 19.0\n",
      "Round:3 Score : 22.0\n",
      "Round:4 Score : 15.0\n",
      "Round:5 Score : 21.0\n",
      "Round:6 Score : 14.0\n",
      "Round:7 Score : 25.0\n",
      "Round:8 Score : 18.0\n",
      "Round:9 Score : 17.0\n",
      "Round:10 Score : 21.0\n"
     ]
    }
   ],
   "source": [
    "rounds = 10\n",
    "for rounds in range(1, rounds+1):\n",
    "  state = env.reset()\n",
    "  done = False\n",
    "  score = 0\n",
    "\n",
    "  while not done:\n",
    "    env.render()\n",
    "    action = env.action_space.sample()\n",
    "    n_state , reward, done, info = env.step(action)\n",
    "    score += reward\n",
    "  print('Round:{} Score : {}'.format(rounds, score))\n",
    "env.close()"
   ]
  },
  {
   "cell_type": "markdown",
   "metadata": {},
   "source": [
    "# Understanding the Environment"
   ]
  },
  {
   "cell_type": "code",
   "execution_count": 34,
   "metadata": {},
   "outputs": [
    {
     "data": {
      "text/plain": [
       "Discrete(2)"
      ]
     },
     "execution_count": 34,
     "metadata": {},
     "output_type": "execute_result"
    }
   ],
   "source": [
    "env.action_space"
   ]
  },
  {
   "cell_type": "code",
   "execution_count": 35,
   "metadata": {},
   "outputs": [
    {
     "data": {
      "text/plain": [
       "1"
      ]
     },
     "execution_count": 35,
     "metadata": {},
     "output_type": "execute_result"
    }
   ],
   "source": [
    "env.action_space.sample()"
   ]
  },
  {
   "cell_type": "markdown",
   "metadata": {},
   "source": [
    "0 - push cart to left\n",
    "1- push cart to right"
   ]
  },
  {
   "cell_type": "code",
   "execution_count": 37,
   "metadata": {},
   "outputs": [
    {
     "data": {
      "text/plain": [
       "Box([-4.8000002e+00 -3.4028235e+38 -4.1887903e-01 -3.4028235e+38], [4.8000002e+00 3.4028235e+38 4.1887903e-01 3.4028235e+38], (4,), float32)"
      ]
     },
     "execution_count": 37,
     "metadata": {},
     "output_type": "execute_result"
    }
   ],
   "source": [
    "env.observation_space"
   ]
  },
  {
   "cell_type": "code",
   "execution_count": 38,
   "metadata": {},
   "outputs": [
    {
     "data": {
      "text/plain": [
       "array([-2.8342962e+00,  2.0666386e+38, -3.7178522e-01, -3.0930589e+38],\n",
       "      dtype=float32)"
      ]
     },
     "execution_count": 38,
     "metadata": {},
     "output_type": "execute_result"
    }
   ],
   "source": [
    "env.observation_space.sample()"
   ]
  },
  {
   "cell_type": "markdown",
   "metadata": {
    "id": "zZwj4amvrwww"
   },
   "source": [
    "# Train the RL Model"
   ]
  },
  {
   "cell_type": "code",
   "execution_count": 41,
   "metadata": {},
   "outputs": [],
   "source": [
    "#Make your directories first\n",
    "log_path = 'D:/MSc Applied Data Science/Principles of Data Mining and Machine Learning/Reinforcement Learning/Models/Trainings/Logs/'"
   ]
  },
  {
   "cell_type": "code",
   "execution_count": 43,
   "metadata": {},
   "outputs": [
    {
     "name": "stdout",
     "output_type": "stream",
     "text": [
      "Using cpu device\n"
     ]
    }
   ],
   "source": [
    "env = gym.make(environment_name)\n",
    "env = DummyVecEnv([lambda : env])\n",
    "model = PPO('MlpPolicy', env, verbose =1, tensorboard_log = log_path)"
   ]
  },
  {
   "cell_type": "code",
   "execution_count": 44,
   "metadata": {},
   "outputs": [
    {
     "name": "stdout",
     "output_type": "stream",
     "text": [
      "Logging to D:/MSc Applied Data Science/Principles of Data Mining and Machine Learning/Reinforcement Learning/Models/Trainings/Logs/PPO_5\n",
      "-----------------------------\n",
      "| time/              |      |\n",
      "|    fps             | 98   |\n",
      "|    iterations      | 1    |\n",
      "|    time_elapsed    | 20   |\n",
      "|    total_timesteps | 2048 |\n",
      "-----------------------------\n",
      "-----------------------------------------\n",
      "| time/                   |             |\n",
      "|    fps                  | 151         |\n",
      "|    iterations           | 2           |\n",
      "|    time_elapsed         | 26          |\n",
      "|    total_timesteps      | 4096        |\n",
      "| train/                  |             |\n",
      "|    approx_kl            | 0.008913296 |\n",
      "|    clip_fraction        | 0.113       |\n",
      "|    clip_range           | 0.2         |\n",
      "|    entropy_loss         | -0.686      |\n",
      "|    explained_variance   | 0.00111     |\n",
      "|    learning_rate        | 0.0003      |\n",
      "|    loss                 | 7           |\n",
      "|    n_updates            | 10          |\n",
      "|    policy_gradient_loss | -0.0177     |\n",
      "|    value_loss           | 50.5        |\n",
      "-----------------------------------------\n",
      "-----------------------------------------\n",
      "| time/                   |             |\n",
      "|    fps                  | 185         |\n",
      "|    iterations           | 3           |\n",
      "|    time_elapsed         | 33          |\n",
      "|    total_timesteps      | 6144        |\n",
      "| train/                  |             |\n",
      "|    approx_kl            | 0.010718022 |\n",
      "|    clip_fraction        | 0.0763      |\n",
      "|    clip_range           | 0.2         |\n",
      "|    entropy_loss         | -0.665      |\n",
      "|    explained_variance   | 0.0962      |\n",
      "|    learning_rate        | 0.0003      |\n",
      "|    loss                 | 15          |\n",
      "|    n_updates            | 20          |\n",
      "|    policy_gradient_loss | -0.0201     |\n",
      "|    value_loss           | 31.9        |\n",
      "-----------------------------------------\n",
      "-----------------------------------------\n",
      "| time/                   |             |\n",
      "|    fps                  | 212         |\n",
      "|    iterations           | 4           |\n",
      "|    time_elapsed         | 38          |\n",
      "|    total_timesteps      | 8192        |\n",
      "| train/                  |             |\n",
      "|    approx_kl            | 0.008954626 |\n",
      "|    clip_fraction        | 0.096       |\n",
      "|    clip_range           | 0.2         |\n",
      "|    entropy_loss         | -0.63       |\n",
      "|    explained_variance   | 0.266       |\n",
      "|    learning_rate        | 0.0003      |\n",
      "|    loss                 | 16.2        |\n",
      "|    n_updates            | 30          |\n",
      "|    policy_gradient_loss | -0.0175     |\n",
      "|    value_loss           | 51          |\n",
      "-----------------------------------------\n",
      "-----------------------------------------\n",
      "| time/                   |             |\n",
      "|    fps                  | 236         |\n",
      "|    iterations           | 5           |\n",
      "|    time_elapsed         | 43          |\n",
      "|    total_timesteps      | 10240       |\n",
      "| train/                  |             |\n",
      "|    approx_kl            | 0.008153455 |\n",
      "|    clip_fraction        | 0.0698      |\n",
      "|    clip_range           | 0.2         |\n",
      "|    entropy_loss         | -0.606      |\n",
      "|    explained_variance   | 0.31        |\n",
      "|    learning_rate        | 0.0003      |\n",
      "|    loss                 | 18.1        |\n",
      "|    n_updates            | 40          |\n",
      "|    policy_gradient_loss | -0.0159     |\n",
      "|    value_loss           | 64          |\n",
      "-----------------------------------------\n",
      "------------------------------------------\n",
      "| time/                   |              |\n",
      "|    fps                  | 253          |\n",
      "|    iterations           | 6            |\n",
      "|    time_elapsed         | 48           |\n",
      "|    total_timesteps      | 12288        |\n",
      "| train/                  |              |\n",
      "|    approx_kl            | 0.0061606965 |\n",
      "|    clip_fraction        | 0.0654       |\n",
      "|    clip_range           | 0.2          |\n",
      "|    entropy_loss         | -0.59        |\n",
      "|    explained_variance   | 0.522        |\n",
      "|    learning_rate        | 0.0003       |\n",
      "|    loss                 | 14.4         |\n",
      "|    n_updates            | 50           |\n",
      "|    policy_gradient_loss | -0.0139      |\n",
      "|    value_loss           | 55.3         |\n",
      "------------------------------------------\n",
      "------------------------------------------\n",
      "| time/                   |              |\n",
      "|    fps                  | 252          |\n",
      "|    iterations           | 7            |\n",
      "|    time_elapsed         | 56           |\n",
      "|    total_timesteps      | 14336        |\n",
      "| train/                  |              |\n",
      "|    approx_kl            | 0.0036819447 |\n",
      "|    clip_fraction        | 0.0228       |\n",
      "|    clip_range           | 0.2          |\n",
      "|    entropy_loss         | -0.574       |\n",
      "|    explained_variance   | 0.385        |\n",
      "|    learning_rate        | 0.0003       |\n",
      "|    loss                 | 27.6         |\n",
      "|    n_updates            | 60           |\n",
      "|    policy_gradient_loss | -0.00833     |\n",
      "|    value_loss           | 59.8         |\n",
      "------------------------------------------\n",
      "-----------------------------------------\n",
      "| time/                   |             |\n",
      "|    fps                  | 255         |\n",
      "|    iterations           | 8           |\n",
      "|    time_elapsed         | 64          |\n",
      "|    total_timesteps      | 16384       |\n",
      "| train/                  |             |\n",
      "|    approx_kl            | 0.006343401 |\n",
      "|    clip_fraction        | 0.0479      |\n",
      "|    clip_range           | 0.2         |\n",
      "|    entropy_loss         | -0.559      |\n",
      "|    explained_variance   | 0.564       |\n",
      "|    learning_rate        | 0.0003      |\n",
      "|    loss                 | 22.4        |\n",
      "|    n_updates            | 70          |\n",
      "|    policy_gradient_loss | -0.0067     |\n",
      "|    value_loss           | 39.7        |\n",
      "-----------------------------------------\n",
      "-----------------------------------------\n",
      "| time/                   |             |\n",
      "|    fps                  | 253         |\n",
      "|    iterations           | 9           |\n",
      "|    time_elapsed         | 72          |\n",
      "|    total_timesteps      | 18432       |\n",
      "| train/                  |             |\n",
      "|    approx_kl            | 0.008142416 |\n",
      "|    clip_fraction        | 0.0674      |\n",
      "|    clip_range           | 0.2         |\n",
      "|    entropy_loss         | -0.549      |\n",
      "|    explained_variance   | 0.77        |\n",
      "|    learning_rate        | 0.0003      |\n",
      "|    loss                 | 5.39        |\n",
      "|    n_updates            | 80          |\n",
      "|    policy_gradient_loss | -0.00851    |\n",
      "|    value_loss           | 31.8        |\n",
      "-----------------------------------------\n",
      "-----------------------------------------\n",
      "| time/                   |             |\n",
      "|    fps                  | 253         |\n",
      "|    iterations           | 10          |\n",
      "|    time_elapsed         | 80          |\n",
      "|    total_timesteps      | 20480       |\n",
      "| train/                  |             |\n",
      "|    approx_kl            | 0.008173402 |\n",
      "|    clip_fraction        | 0.0841      |\n",
      "|    clip_range           | 0.2         |\n",
      "|    entropy_loss         | -0.553      |\n",
      "|    explained_variance   | 0.314       |\n",
      "|    learning_rate        | 0.0003      |\n",
      "|    loss                 | 1.21        |\n",
      "|    n_updates            | 90          |\n",
      "|    policy_gradient_loss | -0.00777    |\n",
      "|    value_loss           | 38.7        |\n",
      "-----------------------------------------\n"
     ]
    },
    {
     "data": {
      "text/plain": [
       "<stable_baselines3.ppo.ppo.PPO at 0x2852856dd00>"
      ]
     },
     "execution_count": 44,
     "metadata": {},
     "output_type": "execute_result"
    }
   ],
   "source": [
    "\n",
    "model.learn(total_timesteps = 20000)"
   ]
  },
  {
   "cell_type": "markdown",
   "metadata": {
    "id": "awGJM4svr2lg"
   },
   "source": [
    "## 4. Save and Reload Model"
   ]
  },
  {
   "cell_type": "code",
   "execution_count": 46,
   "metadata": {},
   "outputs": [],
   "source": [
    "PPO_PATH = 'D:/MSc Applied Data Science/Principles of Data Mining and Machine Learning/Reinforcement Learning/Models/Trainings/SavedModels/PPO_Model_Cartpole/'"
   ]
  },
  {
   "cell_type": "code",
   "execution_count": 47,
   "metadata": {},
   "outputs": [],
   "source": [
    "model.save(PPO_PATH + \"PPO_ModelCartpole\")"
   ]
  },
  {
   "cell_type": "code",
   "execution_count": 48,
   "metadata": {},
   "outputs": [],
   "source": [
    "del model"
   ]
  },
  {
   "cell_type": "code",
   "execution_count": 49,
   "metadata": {},
   "outputs": [],
   "source": [
    "os.chdir('D:/MSc Applied Data Science/Principles of Data Mining and Machine Learning/Reinforcement Learning/Models/Trainings/SavedModels/')"
   ]
  },
  {
   "cell_type": "code",
   "execution_count": 50,
   "metadata": {
    "scrolled": true
   },
   "outputs": [],
   "source": [
    "model = PPO.load(PPO_PATH + \"PPO_ModelCartpole\", env= env)"
   ]
  },
  {
   "cell_type": "code",
   "execution_count": 52,
   "metadata": {},
   "outputs": [
    {
     "name": "stdout",
     "output_type": "stream",
     "text": [
      "Logging to D:/MSc Applied Data Science/Principles of Data Mining and Machine Learning/Reinforcement Learning/Models/Trainings/Logs/PPO_6\n",
      "-----------------------------\n",
      "| time/              |      |\n",
      "|    fps             | 525  |\n",
      "|    iterations      | 1    |\n",
      "|    time_elapsed    | 3    |\n",
      "|    total_timesteps | 2048 |\n",
      "-----------------------------\n"
     ]
    },
    {
     "data": {
      "text/plain": [
       "<stable_baselines3.ppo.ppo.PPO at 0x2852bdb8cd0>"
      ]
     },
     "execution_count": 52,
     "metadata": {},
     "output_type": "execute_result"
    }
   ],
   "source": [
    "model.learn(total_timesteps  = 1000)"
   ]
  },
  {
   "cell_type": "markdown",
   "metadata": {},
   "source": [
    "# TESTING AND EVALUATION"
   ]
  },
  {
   "cell_type": "code",
   "execution_count": 53,
   "metadata": {},
   "outputs": [
    {
     "name": "stderr",
     "output_type": "stream",
     "text": [
      "C:\\ProgramData\\Anaconda3\\lib\\site-packages\\stable_baselines3\\common\\evaluation.py:65: UserWarning: Evaluation environment is not wrapped with a ``Monitor`` wrapper. This may result in reporting modified episode lengths and rewards, if other wrappers happen to modify these. Consider wrapping environment first with ``Monitor`` wrapper.\n",
      "  warnings.warn(\n"
     ]
    },
    {
     "data": {
      "text/plain": [
       "(200.0, 0.0)"
      ]
     },
     "execution_count": 53,
     "metadata": {},
     "output_type": "execute_result"
    }
   ],
   "source": [
    "evaluate_policy(model, env, n_eval_episodes =10, render = True)\n"
   ]
  },
  {
   "cell_type": "markdown",
   "metadata": {},
   "source": [
    "Average reward is 200 with a standard deviation is 0"
   ]
  },
  {
   "cell_type": "code",
   "execution_count": 55,
   "metadata": {},
   "outputs": [],
   "source": [
    "env.close()"
   ]
  },
  {
   "cell_type": "code",
   "execution_count": 59,
   "metadata": {},
   "outputs": [
    {
     "name": "stdout",
     "output_type": "stream",
     "text": [
      "Episode:1 Score : [200.]\n",
      "Episode:2 Score : [200.]\n",
      "Episode:3 Score : [200.]\n",
      "Episode:4 Score : [200.]\n",
      "Episode:5 Score : [200.]\n"
     ]
    }
   ],
   "source": [
    "\n",
    "episodes = 5\n",
    "for episodes in range(1, episodes+1):\n",
    "  obs = env.reset()\n",
    "  done = False\n",
    "  score = 0\n",
    "\n",
    "  while not done:\n",
    "    env.render()\n",
    "    action, _ = model.predict(obs) #now we are using the model\n",
    "    obs , reward, done, info = env.step(action)\n",
    "    score += reward\n",
    "  print('Episode:{} Score : {}'.format(episodes, score))\n",
    "env.close()"
   ]
  },
  {
   "cell_type": "markdown",
   "metadata": {},
   "source": [
    "it is now balancing that pole way better than previous\n",
    "\n"
   ]
  }
 ],
 "metadata": {
  "colab": {
   "name": "RL.ipynb",
   "provenance": []
  },
  "kernelspec": {
   "display_name": "Python 3",
   "language": "python",
   "name": "python3"
  },
  "language_info": {
   "codemirror_mode": {
    "name": "ipython",
    "version": 3
   },
   "file_extension": ".py",
   "mimetype": "text/x-python",
   "name": "python",
   "nbconvert_exporter": "python",
   "pygments_lexer": "ipython3",
   "version": "3.8.8"
  }
 },
 "nbformat": 4,
 "nbformat_minor": 1
}
